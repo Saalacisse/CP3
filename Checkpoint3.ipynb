{
 "cells": [
  {
   "cell_type": "markdown",
   "id": "c4aa3e60",
   "metadata": {},
   "source": [
    "# Checkpoint 3"
   ]
  },
  {
   "cell_type": "markdown",
   "id": "f2d034b1",
   "metadata": {},
   "source": [
    "### Question 1 : Write a Python program that multiplies all the items in a list. Sample list = [2, 3, 6] - Result = 36"
   ]
  },
  {
   "cell_type": "code",
   "execution_count": 6,
   "id": "07371c3a",
   "metadata": {},
   "outputs": [
    {
     "name": "stdout",
     "output_type": "stream",
     "text": [
      "36\n"
     ]
    }
   ],
   "source": [
    "Liste = [2,3,6] # Créer une liste\n",
    "Produit = 1\n",
    "for i in Liste:\n",
    "    Produit *= i\n",
    "print(Produit)"
   ]
  },
  {
   "cell_type": "markdown",
   "id": "831fe192",
   "metadata": {},
   "source": [
    "### Question 2 : Write a Python program to get a list, sorted in increasing order by the last element in each tuple, from a given list of non-empty tuples.\n",
    "\n",
    "Sample List : [(2, 5), (1, 2), (4, 4), (2, 3), (2, 1)]\n",
    "\n",
    "Expected result : [(2, 1), (1, 2), (2, 3), (4, 4), (2, 5)]\n",
    "\n",
    "Hint: You can use the sort function."
   ]
  },
  {
   "cell_type": "code",
   "execution_count": 4,
   "id": "c67694c2",
   "metadata": {},
   "outputs": [
    {
     "name": "stdout",
     "output_type": "stream",
     "text": [
      "[(2, 1), (1, 2), (2, 3), (4, 4), (2, 5)]\n"
     ]
    }
   ],
   "source": [
    "Liste = [(2,5),(1,2),(4,4),(2,3), (2,1)]\n",
    "Nouvelle_liste = sorted(Liste, key=lambda x:x[-1])\n",
    "print (Nouvelle_liste)"
   ]
  },
  {
   "cell_type": "markdown",
   "id": "e3a15425",
   "metadata": {},
   "source": [
    "### Question 3 : Write a Python program that combines two dictionaries by adding values for common keys.\n",
    "\n",
    "d1 = {'a': 100, 'b': 200, 'c':300}\n",
    "\n",
    "d2 = {'a': 300, 'b': 200, 'd':400}\n",
    "\n",
    "Expected result: {'a': 400, 'b': 400, 'd': 400, 'c': 300}"
   ]
  },
  {
   "cell_type": "code",
   "execution_count": 16,
   "id": "23880c04",
   "metadata": {},
   "outputs": [
    {
     "name": "stdout",
     "output_type": "stream",
     "text": [
      "{'a': 400, 'b': 400, 'c': 300, 'd': 400}\n"
     ]
    }
   ],
   "source": [
    "d1 = {'a':100,'b':200,'c':300}\n",
    "d2 = {'a':300,'b':200,'d':400}\n",
    "d3={}\n",
    "for key in d1.keys():\n",
    "    if key in d2.keys():\n",
    "        d3[key]=d1[key]+d2[key]\n",
    "    else:\n",
    "        d3[key]=d1[key]\n",
    "for key in d2.keys():\n",
    "    if key not in d1.keys():\n",
    "        d3[key]=d2[key]\n",
    "print(d3)"
   ]
  },
  {
   "cell_type": "markdown",
   "id": "02c7dcc7",
   "metadata": {},
   "source": [
    "### Question 4\n",
    "\n",
    "With a given integral number n, write a program to generate a dictionary that contains (i, i*i) so that is an integral number between 1 and n (both included). Then the program should print the dictionary. Suppose the following input is supplied to the program: 8. Then, the output should be: {1: 1, 2: 4, 3: 9, 4: 16, 5: 25, 6: 36, 7: 49, 8: 64}"
   ]
  },
  {
   "cell_type": "code",
   "execution_count": 23,
   "id": "7ef820c1",
   "metadata": {},
   "outputs": [
    {
     "name": "stdout",
     "output_type": "stream",
     "text": [
      "{1: 1, 2: 4, 3: 9, 4: 16, 5: 25, 6: 36, 7: 49, 8: 64}\n"
     ]
    }
   ],
   "source": [
    "N = 8\n",
    "D = {}\n",
    "for i in range(1, N+1):\n",
    "    D[i]=i*i\n",
    "print(D)"
   ]
  },
  {
   "cell_type": "markdown",
   "id": "cb110d3d",
   "metadata": {},
   "source": [
    "### Question 5\n",
    "\n",
    "Write a program to sort a tuple by its float element.\n",
    "\n",
    "For example: list= [('item1', '12.20'), ('item2', '15.10'), ('item3', '24.5')]\n",
    "\n",
    "Expected result: [('item3', '24.5'), ('item2', '15.10'), ('item1', '12.20')]"
   ]
  },
  {
   "cell_type": "code",
   "execution_count": 50,
   "id": "af0a6fb3",
   "metadata": {},
   "outputs": [
    {
     "name": "stdout",
     "output_type": "stream",
     "text": [
      "[('item3', '24.5'), ('item2', '15.10'), ('item1', '12.20')]\n"
     ]
    }
   ],
   "source": [
    "Liste = [('item1','12.20'),('item2','15.10'),('item3','24.5')]\n",
    "L=sorted(Liste,key=lambda x:float(x[-1]), reverse= True)\n",
    "print(L)"
   ]
  },
  {
   "cell_type": "markdown",
   "id": "84b54385",
   "metadata": {},
   "source": [
    "### Question 6\n",
    "\n",
    "Write a Python program to create a set.\n",
    "\n",
    "Examples : {0, 1, 2, 3, 4}\n",
    "\n",
    "Write a Python program to iteration over sets.\n",
    "\n",
    "Write a Python program to add members in a set and to remove items from a given set. "
   ]
  },
  {
   "cell_type": "code",
   "execution_count": 75,
   "id": "ffa3bbb4",
   "metadata": {},
   "outputs": [
    {
     "name": "stdout",
     "output_type": "stream",
     "text": [
      "{0, 1, 2, 3, 4}\n",
      "{0, 2, 3, 4, 8}\n"
     ]
    }
   ],
   "source": [
    "Ensemble = {0,1,2,3,4}\n",
    "print(Ensemble)\n",
    "Ensemble.add(8)\n",
    "Ensemble.remove (1)\n",
    "print (Ensemble)"
   ]
  },
  {
   "cell_type": "code",
   "execution_count": null,
   "id": "1f965fc8",
   "metadata": {},
   "outputs": [],
   "source": []
  }
 ],
 "metadata": {
  "kernelspec": {
   "display_name": "Python 3 (ipykernel)",
   "language": "python",
   "name": "python3"
  },
  "language_info": {
   "codemirror_mode": {
    "name": "ipython",
    "version": 3
   },
   "file_extension": ".py",
   "mimetype": "text/x-python",
   "name": "python",
   "nbconvert_exporter": "python",
   "pygments_lexer": "ipython3",
   "version": "3.9.13"
  }
 },
 "nbformat": 4,
 "nbformat_minor": 5
}
